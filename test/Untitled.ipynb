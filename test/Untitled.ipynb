{
 "cells": [
  {
   "cell_type": "code",
   "execution_count": 89,
   "metadata": {},
   "outputs": [],
   "source": [
    "import pandas as pd\n",
    "\n",
    "pool_3 = pd.read_csv(\"KPRN_pooling3.csv\", index_col=[i for i in range(0, 11)])\n",
    "pool_5 = pd.read_csv(\"KPRN_pooling5.csv\", index_col=[i for i in range(0, 11)])"
   ]
  },
  {
   "cell_type": "code",
   "execution_count": 102,
   "metadata": {},
   "outputs": [],
   "source": [
    "def post_process_csv(filename):\n",
    "    pool_1 = pd.read_csv(filename, index_col=[i for i in range(0, 11)])\n",
    "    pool_1.columns = [str(i) for i in range(0, 10)]\n",
    "    pool_1 = pool_1.reset_index()\n",
    "    pool_1 = pool_1.drop('index', axis=1)\n",
    "    pool_1['0'] = pool_1['0'].str.extract('(\\d.\\d\\d\\d\\d\\d\\d)')\n",
    "    \n",
    "    pool_1.to_csv(\"new\"+filename)\n",
    "\n",
    "for f in [\"KPRN_no_pooling.csv\", \"KPRN_pooling3.csv\", \"KPRN_pooling5.csv\"]:\n",
    "    post_process_csv(f)"
   ]
  },
  {
   "cell_type": "code",
   "execution_count": null,
   "metadata": {},
   "outputs": [],
   "source": []
  }
 ],
 "metadata": {
  "kernelspec": {
   "display_name": "Python 3",
   "language": "python",
   "name": "python3"
  },
  "language_info": {
   "codemirror_mode": {
    "name": "ipython",
    "version": 3
   },
   "file_extension": ".py",
   "mimetype": "text/x-python",
   "name": "python",
   "nbconvert_exporter": "python",
   "pygments_lexer": "ipython3",
   "version": "3.5.2"
  },
  "varInspector": {
   "cols": {
    "lenName": 16,
    "lenType": 16,
    "lenVar": 40
   },
   "kernels_config": {
    "python": {
     "delete_cmd_postfix": "",
     "delete_cmd_prefix": "del ",
     "library": "var_list.py",
     "varRefreshCmd": "print(var_dic_list())"
    },
    "r": {
     "delete_cmd_postfix": ") ",
     "delete_cmd_prefix": "rm(",
     "library": "var_list.r",
     "varRefreshCmd": "cat(var_dic_list()) "
    }
   },
   "types_to_exclude": [
    "module",
    "function",
    "builtin_function_or_method",
    "instance",
    "_Feature"
   ],
   "window_display": false
  }
 },
 "nbformat": 4,
 "nbformat_minor": 2
}
