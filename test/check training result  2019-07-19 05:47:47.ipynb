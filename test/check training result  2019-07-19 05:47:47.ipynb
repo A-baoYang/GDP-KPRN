{
 "cells": [
  {
   "cell_type": "markdown",
   "metadata": {},
   "source": [
    " # **Test KPRN Result**"
   ]
  },
  {
   "cell_type": "code",
   "execution_count": 1,
   "metadata": {},
   "outputs": [],
   "source": [
    "TEST_CODE = \"2019-07-19 05:47:47\"\n",
    "MODEL_DIR = \"../logs/{}\".format(TEST_CODE)\n",
    "CHOSEN_EPOCH = 5"
   ]
  },
  {
   "cell_type": "markdown",
   "metadata": {
    "heading_collapsed": true
   },
   "source": [
    "# > Config"
   ]
  },
  {
   "cell_type": "code",
   "execution_count": 2,
   "metadata": {
    "hidden": true
   },
   "outputs": [],
   "source": [
    "import warnings\n",
    "warnings.filterwarnings(action='ignore')"
   ]
  },
  {
   "cell_type": "code",
   "execution_count": 3,
   "metadata": {
    "hidden": true
   },
   "outputs": [
    {
     "name": "stderr",
     "output_type": "stream",
     "text": [
      "Using TensorFlow backend.\n"
     ]
    }
   ],
   "source": [
    "import tensorflow as tf\n",
    "from keras.backend.tensorflow_backend import set_session\n",
    "\n",
    "config = tf.ConfigProto()\n",
    "config.gpu_options.allow_growth = True\n",
    "config.log_device_placement = True\n",
    "\n",
    "sess = tf.Session(config=config)\n",
    "set_session(sess)"
   ]
  },
  {
   "cell_type": "code",
   "execution_count": 4,
   "metadata": {
    "hidden": true
   },
   "outputs": [],
   "source": [
    "from tqdm import tqdm"
   ]
  },
  {
   "cell_type": "markdown",
   "metadata": {
    "heading_collapsed": true
   },
   "source": [
    "# > Load model"
   ]
  },
  {
   "cell_type": "code",
   "execution_count": 5,
   "metadata": {
    "hidden": true
   },
   "outputs": [],
   "source": [
    "import os\n",
    "trained_weights = sorted(os.listdir(MODEL_DIR))\n",
    "choosen_weight = \"{}/{}\".format(MODEL_DIR, trained_weights[CHOSEN_EPOCH - 1])"
   ]
  },
  {
   "cell_type": "code",
   "execution_count": 6,
   "metadata": {
    "hidden": true
   },
   "outputs": [
    {
     "name": "stderr",
     "output_type": "stream",
     "text": [
      "WARNING: Logging before flag parsing goes to stderr.\n",
      "W0722 06:55:42.524200 139948314203904 deprecation_wrapper.py:119] From /home/jessinra/.local/lib/python3.5/site-packages/keras/backend/tensorflow_backend.py:517: The name tf.placeholder is deprecated. Please use tf.compat.v1.placeholder instead.\n",
      "\n",
      "W0722 06:55:42.587604 139948314203904 deprecation_wrapper.py:119] From /home/jessinra/.local/lib/python3.5/site-packages/keras/backend/tensorflow_backend.py:74: The name tf.get_default_graph is deprecated. Please use tf.compat.v1.get_default_graph instead.\n",
      "\n",
      "W0722 06:55:42.634318 139948314203904 deprecation_wrapper.py:119] From /home/jessinra/.local/lib/python3.5/site-packages/keras/backend/tensorflow_backend.py:4138: The name tf.random_uniform is deprecated. Please use tf.random.uniform instead.\n",
      "\n",
      "W0722 06:55:42.946032 139948314203904 deprecation_wrapper.py:119] From /home/jessinra/.local/lib/python3.5/site-packages/keras/backend/tensorflow_backend.py:133: The name tf.placeholder_with_default is deprecated. Please use tf.compat.v1.placeholder_with_default instead.\n",
      "\n",
      "W0722 06:55:42.957200 139948314203904 deprecation.py:506] From /home/jessinra/.local/lib/python3.5/site-packages/keras/backend/tensorflow_backend.py:3445: calling dropout (from tensorflow.python.ops.nn_ops) with keep_prob is deprecated and will be removed in a future version.\n",
      "Instructions for updating:\n",
      "Please use `rate` instead of `keep_prob`. Rate should be set to `rate = 1 - keep_prob`.\n",
      "W0722 06:55:43.854442 139948314203904 deprecation_wrapper.py:119] From /home/jessinra/.local/lib/python3.5/site-packages/keras/backend/tensorflow_backend.py:174: The name tf.get_default_session is deprecated. Please use tf.compat.v1.get_default_session instead.\n",
      "\n",
      "W0722 06:55:55.687061 139948314203904 deprecation_wrapper.py:119] From /home/jessinra/.local/lib/python3.5/site-packages/keras/optimizers.py:790: The name tf.train.Optimizer is deprecated. Please use tf.compat.v1.train.Optimizer instead.\n",
      "\n",
      "W0722 06:55:55.791476 139948314203904 deprecation.py:323] From /home/jessinra/.local/lib/python3.5/site-packages/tensorflow/python/ops/nn_impl.py:180: add_dispatch_support.<locals>.wrapper (from tensorflow.python.ops.array_ops) is deprecated and will be removed in a future version.\n",
      "Instructions for updating:\n",
      "Use tf.where in 2.0, which has the same broadcast rule as np.where\n"
     ]
    }
   ],
   "source": [
    "from keras.models import load_model\n",
    "from keras.models import Model\n",
    "\n",
    "model = load_model(choosen_weight);"
   ]
  },
  {
   "cell_type": "markdown",
   "metadata": {},
   "source": [
    "# > Load data"
   ]
  },
  {
   "cell_type": "markdown",
   "metadata": {
    "heading_collapsed": true
   },
   "source": [
    "## >> Read data"
   ]
  },
  {
   "cell_type": "code",
   "execution_count": 7,
   "metadata": {
    "hidden": true
   },
   "outputs": [],
   "source": [
    "file_ratings_re = open(\"../data/ratings_re.csv\").readlines()\n",
    "file_triples_idx = open(\"../data/triples_idx.txt\").readlines()\n",
    "\n",
    "file_moviesIdx = open(\"../data/moviesIdx.txt\").readlines() \n",
    "file_types = open(\"../data/types.txt\").readlines() \n",
    "file_entities = open(\"../data/entities.txt\").readlines()\n",
    "file_relations = open(\"../data/relations.txt\").readlines()"
   ]
  },
  {
   "cell_type": "code",
   "execution_count": 8,
   "metadata": {
    "hidden": true
   },
   "outputs": [],
   "source": [
    "# create entity id -> name mapping\n",
    "\n",
    "entity_id_to_name = {}\n",
    "for line in file_moviesIdx:\n",
    "    movie_title, entity_id = line.strip().split()\n",
    "    entity_id_to_name[entity_id] = movie_title\n",
    "    \n",
    "for line in file_entities:\n",
    "    entity_name, entity_id = line.strip().split()\n",
    "    entity_id_to_name[entity_id] = entity_name"
   ]
  },
  {
   "cell_type": "code",
   "execution_count": 9,
   "metadata": {
    "hidden": true
   },
   "outputs": [],
   "source": [
    "# create movie title -> entity type mapping and list of entity for each type\n",
    "\n",
    "movie_title_to_entity_type = {}\n",
    "entity_list_with_type = {}\n",
    "\n",
    "for line in file_types:\n",
    "    \n",
    "    # movie title -> entity type\n",
    "    entity, entity_type = line.strip().split('\\t')\n",
    "    movie_title_to_entity_type[entity] = entity_type\n",
    "    \n",
    "    # entity for each type\n",
    "    if entity_type not in entity_list_with_type:\n",
    "        entity_list_with_type[entity_type] = []\n",
    "    \n",
    "    entity_list_with_type[entity_type].append(entity)"
   ]
  },
  {
   "cell_type": "code",
   "execution_count": 10,
   "metadata": {
    "hidden": true
   },
   "outputs": [],
   "source": [
    "# Create relation id to name mapping\n",
    "\n",
    "relation_id_to_name = {}\n",
    "for line in file_relations:\n",
    "    relation_name, relation_id = line.strip().split()\n",
    "    relation_id = int(relation_id)\n",
    "    relation_id += 200000\n",
    "    \n",
    "    # last 2 relation : spouse and relative has no inverse\n",
    "    if relation_id < 200023:\n",
    "        relation_id_to_name[str(relation_id + 1)] = relation_name + \"_inverse\"\n",
    "    \n",
    "    relation_id_to_name[str(relation_id)] = relation_name"
   ]
  },
  {
   "cell_type": "code",
   "execution_count": 11,
   "metadata": {
    "code_folding": [
     0
    ],
    "hidden": true
   },
   "outputs": [],
   "source": [
    "list_of_type = [\n",
    "    \"Category\",\n",
    "    \"Company\",\n",
    "    \"Country\",\n",
    "    \"Genre\",\n",
    "    \"Movie\",\n",
    "    \"Person\",\n",
    "    \"User\",\n",
    "    \n",
    "    \"#PAD_TOKEN\",\n",
    "    \"#UNK_ENTITY_TYPE\",\n",
    "]\n",
    "\n",
    "entity_type_to_id = {}\n",
    "list_of_type_with_id = []\n",
    "\n",
    "i = 0\n",
    "for t in list_of_type:\n",
    "    \n",
    "    entity_type_to_id[t] = i\n",
    "    list_of_type_with_id.append(\"{}\\t{}\".format(t, i))\n",
    "    \n",
    "    i += 1"
   ]
  },
  {
   "cell_type": "code",
   "execution_count": 12,
   "metadata": {
    "hidden": true
   },
   "outputs": [],
   "source": [
    "# Load KG from cache\n",
    "\n",
    "import pickle\n",
    "kg_path = pickle.load(open(\"../data/cache_kg_path\", \"rb\"))"
   ]
  },
  {
   "cell_type": "code",
   "execution_count": 13,
   "metadata": {
    "hidden": true
   },
   "outputs": [],
   "source": [
    "user_entity_id_padding = 500000\n",
    "relation_rated_good_by_id = '200026'\n",
    "relation_given_good_rating_id = '200027'\n",
    "good_movie_rating_threshold = 4"
   ]
  },
  {
   "cell_type": "markdown",
   "metadata": {},
   "source": [
    "## >> Prepare data"
   ]
  },
  {
   "cell_type": "code",
   "execution_count": 14,
   "metadata": {},
   "outputs": [],
   "source": [
    "import threading"
   ]
  },
  {
   "cell_type": "code",
   "execution_count": 15,
   "metadata": {},
   "outputs": [],
   "source": [
    "IRREGULAR_RELATION = ['200024', '200025']\n",
    "NUM_OF_ITEMS = len(file_moviesIdx)\n",
    "\n",
    "def generate_path_from_entity_to_all_others(entity_id, keep_relation_ratio=0.1, max_relation_num=3, max_entity_per_relation=1):\n",
    "\n",
    "    generated_paths = []\n",
    "    \n",
    "    r1 = kg_path[entity_id]\n",
    "    for e2_id in range(0, NUM_OF_ITEMS):\n",
    "        e2_id = str(e2_id)\n",
    "        # Skip if e1 == e2 (path to itself)\n",
    "        if e2_id == entity_id:\n",
    "            continue\n",
    "\n",
    "        r2 = kg_path[e2_id]\n",
    "        intersect_relations = set(r1.keys()).intersection(set(r2.keys()))\n",
    "        \n",
    "        # downsample relation\n",
    "        if len(intersect_relations) < max_relation_num:\n",
    "            n_intersect_relation = len(intersect_relations)\n",
    "        else:\n",
    "            n_intersect_relation = max(max_relation_num, int(len(intersect_relations) * keep_relation_ratio))\n",
    "            \n",
    "        intersect_relations = list(intersect_relations)\n",
    "        np.random.shuffle(intersect_relations)\n",
    "\n",
    "        for relation in intersect_relations[:n_intersect_relation]:\n",
    "\n",
    "            t1 = r1[relation]\n",
    "            t2 = r2[relation]\n",
    "            intersect_entity = list(set(t1).intersection(set(t2)))\n",
    "            np.random.shuffle(intersect_entity)\n",
    "            \n",
    "            for mid_entity in intersect_entity[:max_entity_per_relation]:\n",
    "                \n",
    "                inverse_relation = relation if (relation in IRREGULAR_RELATION) else str(int(relation) + 1)        \n",
    "                path = \"{} {} {} {} {}\".format(entity_id, relation, mid_entity, inverse_relation, e2_id)\n",
    "                generated_paths.append(path)\n",
    "    \n",
    "    return generated_paths"
   ]
  },
  {
   "cell_type": "code",
   "execution_count": 16,
   "metadata": {},
   "outputs": [],
   "source": [
    "def run_thread(thread_id, thread_items, result):\n",
    "    for item_id in (thread_items):\n",
    "        result += generate_path_from_entity_to_all_others(item_id, keep_relation_ratio=0.2, max_relation_num=5, max_entity_per_relation=1)\n",
    "            \n",
    "def generate_all_path_from_user(user_id, max_seed_num=10, max_seed_ratio=0.2):\n",
    "    \n",
    "    user_interacted_items = []\n",
    "    for relation in kg_path[user_id]:\n",
    "        user_interacted_items += kg_path[user_id][relation]\n",
    "    \n",
    "    user_interacted_items = sorted(set(user_interacted_items))\n",
    "    \n",
    "    # downsample seeds\n",
    "    if len(user_interacted_items) < max_seed_num:\n",
    "        n_seed = len(user_interacted_items)\n",
    "    else:\n",
    "        n_seed = max(max_seed_num, int(len(user_interacted_items) * max_seed_ratio))\n",
    "    \n",
    "    # Randomize\n",
    "    np.random.shuffle(user_interacted_items)\n",
    "    user_interacted_items = user_interacted_items[:n_seed]\n",
    "    \n",
    "    # ====== Threading ======\n",
    "    user_paths = []\n",
    "    threads = []\n",
    "    for i in range(0, n_seed):\n",
    "        \n",
    "        # Split item id equally\n",
    "        thread_items = user_interacted_items[i::n_seed]\n",
    "        thread = threading.Thread(target=run_thread, args=(i, thread_items, user_paths))    \n",
    "        thread.start()\n",
    "        threads.append(thread)\n",
    "    \n",
    "    for i in range(0, n_seed):\n",
    "        threads[i].join()\n",
    "        \n",
    "    user_paths = [\"{} {} {}\".format(user_id, \"200027\", x) for x in user_paths]\n",
    "    return user_paths"
   ]
  },
  {
   "cell_type": "code",
   "execution_count": 17,
   "metadata": {},
   "outputs": [],
   "source": [
    "def get_type_from_entity_id(entity_id):\n",
    "    \n",
    "    # user\n",
    "    if int(entity_id) > user_entity_id_padding:\n",
    "        return \"User\"\n",
    "    elif entity_id_to_name[entity_id] in movie_title_to_entity_type:\n",
    "        return movie_title_to_entity_type[entity_id_to_name[entity_id]]\n",
    "    else:\n",
    "        return \"#UNK_ENTITY_TYPE\""
   ]
  },
  {
   "cell_type": "code",
   "execution_count": 18,
   "metadata": {},
   "outputs": [],
   "source": [
    "import numpy as np\n",
    "\n",
    "END_RELATION = '200030'\n",
    "GIVEN_RATING_RELATION = '200027'\n",
    "BATCH_COUNT = 72\n",
    "\n",
    "def reformat_user_path(user_paths):\n",
    "    \n",
    "    new_paths = []\n",
    "    labels = []\n",
    "    \n",
    "    for path in user_paths:\n",
    "        e1, r1, e2, r2, e3, r3, e4 = path.strip().split()\n",
    "\n",
    "        t1 = entity_type_to_id[get_type_from_entity_id(e1)]\n",
    "        t2 = entity_type_to_id[get_type_from_entity_id(e2)]\n",
    "        t3 = entity_type_to_id[get_type_from_entity_id(e3)]\n",
    "        t4 = entity_type_to_id[get_type_from_entity_id(e4)]\n",
    "\n",
    "        r4 = END_RELATION\n",
    "\n",
    "        entity_rated = kg_path[e1][GIVEN_RATING_RELATION]\n",
    "        label = 1 if e4 in entity_rated else 0\n",
    "        \n",
    "        new_paths.append([\n",
    "            [e1, t1, r1],\n",
    "            [e2, t2, r2],\n",
    "            [e3, t3, r3],\n",
    "            [e4, t4, r4],\n",
    "        ])\n",
    "        \n",
    "        labels.append(label)\n",
    "        \n",
    "    return np.array(new_paths).astype('int'), np.array(labels).astype('int')"
   ]
  },
  {
   "cell_type": "markdown",
   "metadata": {},
   "source": [
    "# > Evaluation"
   ]
  },
  {
   "cell_type": "code",
   "execution_count": 19,
   "metadata": {},
   "outputs": [],
   "source": [
    "def get_top_suggestion(user_id, k=10):\n",
    "    user_paths = generate_all_path_from_user(user_id, max_seed_num=15, max_seed_ratio=0.3)\n",
    "    X_test, y_true = reformat_user_path(user_paths)\n",
    "    y_pred = model.predict(X_test, batch_size=2048, verbose=1)\n",
    "    \n",
    "    path_score = sorted(zip(X_test, y_pred), key=lambda x: x[1], reverse=True)\n",
    "    \n",
    "    top_paths = []\n",
    "    top_choosen_items = set()\n",
    "    for path, score in path_score:\n",
    "        \n",
    "        top_paths.append((path, score))\n",
    "        top_choosen_items.add(path[3][0]) # Add the last item\n",
    "        \n",
    "        if len(top_choosen_items) >= k:\n",
    "            break\n",
    "    \n",
    "    return top_paths, top_choosen_items"
   ]
  },
  {
   "cell_type": "code",
   "execution_count": 20,
   "metadata": {},
   "outputs": [],
   "source": [
    "def get_top_truth(user_id):\n",
    "    return set(kg_path[user_id][GIVEN_RATING_RELATION])"
   ]
  },
  {
   "cell_type": "code",
   "execution_count": 21,
   "metadata": {},
   "outputs": [],
   "source": [
    "def check_precision(pred, truth):    \n",
    "    \n",
    "    # Make sure same type\n",
    "    pred = {str(x) for x in pred}\n",
    "    truth = {str(x) for x in truth}\n",
    "\n",
    "    intersect = pred.intersection(truth)\n",
    "    \n",
    "    if len(truth) > 0 :\n",
    "        return intersect, len(intersect) / len(truth)\n",
    "    else:\n",
    "        return {}, 0"
   ]
  },
  {
   "cell_type": "markdown",
   "metadata": {},
   "source": [
    "----"
   ]
  },
  {
   "cell_type": "code",
   "execution_count": null,
   "metadata": {
    "scrolled": true
   },
   "outputs": [
    {
     "name": "stderr",
     "output_type": "stream",
     "text": [
      "\r",
      "  0%|          | 0/50 [00:00<?, ?it/s]"
     ]
    },
    {
     "name": "stdout",
     "output_type": "stream",
     "text": [
      "329287/329287 [==============================] - 3s 9us/step\n"
     ]
    },
    {
     "name": "stderr",
     "output_type": "stream",
     "text": [
      "\r",
      "  2%|▏         | 1/50 [02:05<1:42:25, 125.43s/it]"
     ]
    },
    {
     "name": "stdout",
     "output_type": "stream",
     "text": [
      "298887/298887 [==============================] - 1s 3us/step\n"
     ]
    },
    {
     "name": "stderr",
     "output_type": "stream",
     "text": [
      "\r",
      "  4%|▍         | 2/50 [03:57<1:37:09, 121.44s/it]"
     ]
    },
    {
     "name": "stdout",
     "output_type": "stream",
     "text": [
      "588128/588128 [==============================] - 2s 3us/step\n"
     ]
    },
    {
     "name": "stderr",
     "output_type": "stream",
     "text": [
      "\r",
      "  6%|▌         | 3/50 [07:38<1:58:27, 151.22s/it]"
     ]
    },
    {
     "name": "stdout",
     "output_type": "stream",
     "text": [
      "444030/444030 [==============================] - 1s 3us/step\n"
     ]
    },
    {
     "name": "stderr",
     "output_type": "stream",
     "text": [
      "\r",
      "  8%|▊         | 4/50 [10:05<1:55:00, 150.00s/it]"
     ]
    },
    {
     "name": "stdout",
     "output_type": "stream",
     "text": [
      "290234/290234 [==============================] - 1s 3us/step\n"
     ]
    },
    {
     "name": "stderr",
     "output_type": "stream",
     "text": [
      "\r",
      " 10%|█         | 5/50 [12:22<1:49:37, 146.17s/it]"
     ]
    },
    {
     "name": "stdout",
     "output_type": "stream",
     "text": [
      "324920/324920 [==============================] - 1s 3us/step\n"
     ]
    },
    {
     "name": "stderr",
     "output_type": "stream",
     "text": [
      "\r",
      " 12%|█▏        | 6/50 [15:15<1:53:04, 154.19s/it]"
     ]
    },
    {
     "name": "stdout",
     "output_type": "stream",
     "text": [
      "658114/658114 [==============================] - 2s 3us/step\n"
     ]
    },
    {
     "name": "stderr",
     "output_type": "stream",
     "text": [
      "\r",
      " 14%|█▍        | 7/50 [17:45<1:49:31, 152.83s/it]"
     ]
    },
    {
     "name": "stdout",
     "output_type": "stream",
     "text": [
      "310442/310442 [==============================] - 1s 3us/step\n"
     ]
    },
    {
     "name": "stderr",
     "output_type": "stream",
     "text": [
      "\r",
      " 16%|█▌        | 8/50 [21:17<1:59:27, 170.66s/it]"
     ]
    },
    {
     "name": "stdout",
     "output_type": "stream",
     "text": [
      "102639/102639 [==============================] - 0s 3us/step\n"
     ]
    },
    {
     "name": "stderr",
     "output_type": "stream",
     "text": [
      "\r",
      " 18%|█▊        | 9/50 [22:17<1:33:52, 137.38s/it]"
     ]
    },
    {
     "name": "stdout",
     "output_type": "stream",
     "text": [
      "270257/270257 [==============================] - 1s 3us/step\n"
     ]
    },
    {
     "name": "stderr",
     "output_type": "stream",
     "text": [
      "\r",
      " 20%|██        | 10/50 [23:15<1:15:48, 113.71s/it]"
     ]
    },
    {
     "name": "stdout",
     "output_type": "stream",
     "text": [
      "178177/178177 [==============================] - 1s 3us/step\n"
     ]
    },
    {
     "name": "stderr",
     "output_type": "stream",
     "text": [
      "\r",
      " 22%|██▏       | 11/50 [24:07<1:01:54, 95.24s/it] "
     ]
    },
    {
     "name": "stdout",
     "output_type": "stream",
     "text": [
      "603331/603331 [==============================] - 2s 3us/step\n"
     ]
    },
    {
     "name": "stderr",
     "output_type": "stream",
     "text": [
      "\r",
      " 24%|██▍       | 12/50 [27:43<1:23:14, 131.44s/it]"
     ]
    },
    {
     "name": "stdout",
     "output_type": "stream",
     "text": [
      "285431/285431 [==============================] - 1s 3us/step\n"
     ]
    },
    {
     "name": "stderr",
     "output_type": "stream",
     "text": [
      "\r",
      " 26%|██▌       | 13/50 [28:58<1:10:39, 114.58s/it]"
     ]
    },
    {
     "name": "stdout",
     "output_type": "stream",
     "text": [
      "20659/20659 [==============================] - 0s 3us/step\n"
     ]
    },
    {
     "name": "stderr",
     "output_type": "stream",
     "text": [
      "\r",
      " 28%|██▊       | 14/50 [29:01<48:34, 80.97s/it]   "
     ]
    },
    {
     "name": "stdout",
     "output_type": "stream",
     "text": [
      "365415/365415 [==============================] - 1s 3us/step\n"
     ]
    },
    {
     "name": "stderr",
     "output_type": "stream",
     "text": [
      "\r",
      " 30%|███       | 15/50 [30:42<50:44, 86.98s/it]"
     ]
    },
    {
     "name": "stdout",
     "output_type": "stream",
     "text": [
      "299939/299939 [==============================] - 1s 3us/step\n"
     ]
    },
    {
     "name": "stderr",
     "output_type": "stream",
     "text": [
      "\r",
      " 32%|███▏      | 16/50 [34:45<1:15:48, 133.77s/it]"
     ]
    },
    {
     "name": "stdout",
     "output_type": "stream",
     "text": [
      "2130475/2130475 [==============================] - 6s 3us/step\n"
     ]
    },
    {
     "name": "stderr",
     "output_type": "stream",
     "text": [
      "\r",
      " 34%|███▍      | 17/50 [42:17<2:06:03, 229.19s/it]"
     ]
    },
    {
     "name": "stdout",
     "output_type": "stream",
     "text": [
      "281505/281505 [==============================] - 1s 3us/step\n"
     ]
    },
    {
     "name": "stderr",
     "output_type": "stream",
     "text": [
      "\r",
      " 36%|███▌      | 18/50 [43:32<1:37:33, 182.91s/it]"
     ]
    },
    {
     "name": "stdout",
     "output_type": "stream",
     "text": [
      "243958/243958 [==============================] - 1s 3us/step\n"
     ]
    },
    {
     "name": "stderr",
     "output_type": "stream",
     "text": [
      "\r",
      " 38%|███▊      | 19/50 [44:54<1:18:51, 152.64s/it]"
     ]
    },
    {
     "name": "stdout",
     "output_type": "stream",
     "text": [
      "286563/286563 [==============================] - 1s 3us/step\n"
     ]
    },
    {
     "name": "stderr",
     "output_type": "stream",
     "text": [
      "\r",
      " 40%|████      | 20/50 [48:14<1:23:26, 166.90s/it]"
     ]
    },
    {
     "name": "stdout",
     "output_type": "stream",
     "text": [
      "664057/664057 [==============================] - 7s 11us/step\n"
     ]
    },
    {
     "name": "stderr",
     "output_type": "stream",
     "text": [
      "\r",
      " 42%|████▏     | 21/50 [53:15<1:40:07, 207.16s/it]"
     ]
    },
    {
     "name": "stdout",
     "output_type": "stream",
     "text": [
      "68757/68757 [==============================] - 1s 11us/step\n"
     ]
    },
    {
     "name": "stderr",
     "output_type": "stream",
     "text": [
      "\r",
      " 44%|████▍     | 22/50 [53:44<1:11:41, 153.64s/it]"
     ]
    },
    {
     "name": "stdout",
     "output_type": "stream",
     "text": [
      "258175/258175 [==============================] - 3s 11us/step\n"
     ]
    },
    {
     "name": "stderr",
     "output_type": "stream",
     "text": [
      "\r",
      " 46%|████▌     | 23/50 [56:03<1:07:11, 149.31s/it]"
     ]
    },
    {
     "name": "stdout",
     "output_type": "stream",
     "text": [
      "248674/248674 [==============================] - 3s 12us/step\n"
     ]
    },
    {
     "name": "stderr",
     "output_type": "stream",
     "text": [
      "\r",
      " 48%|████▊     | 24/50 [57:06<53:25, 123.29s/it]  "
     ]
    },
    {
     "name": "stdout",
     "output_type": "stream",
     "text": [
      "312748/312748 [==============================] - 4s 11us/step\n"
     ]
    },
    {
     "name": "stderr",
     "output_type": "stream",
     "text": [
      "\r",
      " 50%|█████     | 25/50 [58:23<45:39, 109.60s/it]"
     ]
    },
    {
     "name": "stdout",
     "output_type": "stream",
     "text": [
      "287687/287687 [==============================] - 3s 11us/step\n"
     ]
    },
    {
     "name": "stderr",
     "output_type": "stream",
     "text": [
      "\r",
      " 52%|█████▏    | 26/50 [59:28<38:29, 96.21s/it] "
     ]
    },
    {
     "name": "stdout",
     "output_type": "stream",
     "text": [
      "270086/270086 [==============================] - 3s 11us/step\n"
     ]
    },
    {
     "name": "stderr",
     "output_type": "stream",
     "text": [
      "\r",
      " 54%|█████▍    | 27/50 [1:01:35<40:22, 105.31s/it]"
     ]
    },
    {
     "name": "stdout",
     "output_type": "stream",
     "text": [
      "288392/288392 [==============================] - 3s 11us/step\n"
     ]
    },
    {
     "name": "stderr",
     "output_type": "stream",
     "text": [
      "\r",
      " 56%|█████▌    | 28/50 [1:03:22<38:50, 105.95s/it]"
     ]
    },
    {
     "name": "stdout",
     "output_type": "stream",
     "text": [
      "305872/305872 [==============================] - 3s 11us/step\n"
     ]
    },
    {
     "name": "stderr",
     "output_type": "stream",
     "text": [
      "\r",
      " 58%|█████▊    | 29/50 [1:06:49<47:41, 136.26s/it]"
     ]
    },
    {
     "name": "stdout",
     "output_type": "stream",
     "text": [
      "203385/203385 [==============================] - 1s 3us/step\n"
     ]
    },
    {
     "name": "stderr",
     "output_type": "stream",
     "text": [
      "\r",
      " 60%|██████    | 30/50 [1:09:54<50:15, 150.75s/it]"
     ]
    },
    {
     "name": "stdout",
     "output_type": "stream",
     "text": [
      "109008/109008 [==============================] - 0s 3us/step\n"
     ]
    },
    {
     "name": "stderr",
     "output_type": "stream",
     "text": [
      "\r",
      " 62%|██████▏   | 31/50 [1:10:12<35:09, 111.02s/it]"
     ]
    },
    {
     "name": "stdout",
     "output_type": "stream",
     "text": [
      "261234/261234 [==============================] - 1s 3us/step\n"
     ]
    },
    {
     "name": "stderr",
     "output_type": "stream",
     "text": [
      "\r",
      " 64%|██████▍   | 32/50 [1:11:26<29:59, 99.97s/it] "
     ]
    },
    {
     "name": "stdout",
     "output_type": "stream",
     "text": [
      "315816/315816 [==============================] - 1s 3us/step\n"
     ]
    },
    {
     "name": "stderr",
     "output_type": "stream",
     "text": [
      "\r",
      " 66%|██████▌   | 33/50 [1:14:07<33:27, 118.10s/it]"
     ]
    },
    {
     "name": "stdout",
     "output_type": "stream",
     "text": [
      "306681/306681 [==============================] - 1s 3us/step\n"
     ]
    },
    {
     "name": "stderr",
     "output_type": "stream",
     "text": [
      "\r",
      " 68%|██████▊   | 34/50 [1:15:50<30:16, 113.53s/it]"
     ]
    },
    {
     "name": "stdout",
     "output_type": "stream",
     "text": [
      "345559/345559 [==============================] - 1s 3us/step\n"
     ]
    },
    {
     "name": "stderr",
     "output_type": "stream",
     "text": [
      "\r",
      " 70%|███████   | 35/50 [1:19:15<35:15, 141.02s/it]"
     ]
    },
    {
     "name": "stdout",
     "output_type": "stream",
     "text": [
      "181075/181075 [==============================] - 1s 3us/step\n"
     ]
    },
    {
     "name": "stderr",
     "output_type": "stream",
     "text": [
      "\r",
      " 72%|███████▏  | 36/50 [1:20:23<27:50, 119.29s/it]"
     ]
    },
    {
     "name": "stdout",
     "output_type": "stream",
     "text": [
      "131712/131712 [==============================] - 0s 3us/step\n"
     ]
    },
    {
     "name": "stderr",
     "output_type": "stream",
     "text": [
      "\r",
      " 74%|███████▍  | 37/50 [1:21:03<20:41, 95.51s/it] "
     ]
    },
    {
     "name": "stdout",
     "output_type": "stream",
     "text": [
      "174665/174665 [==============================] - 0s 3us/step\n"
     ]
    },
    {
     "name": "stderr",
     "output_type": "stream",
     "text": [
      "\r",
      " 76%|███████▌  | 38/50 [1:21:26<14:44, 73.70s/it]"
     ]
    },
    {
     "name": "stdout",
     "output_type": "stream",
     "text": [
      "82550/82550 [==============================] - 0s 3us/step\n"
     ]
    },
    {
     "name": "stderr",
     "output_type": "stream",
     "text": [
      "\r",
      " 78%|███████▊  | 39/50 [1:22:09<11:49, 64.51s/it]"
     ]
    },
    {
     "name": "stdout",
     "output_type": "stream",
     "text": [
      "1451879/1451879 [==============================] - 16s 11us/step\n"
     ]
    },
    {
     "name": "stderr",
     "output_type": "stream",
     "text": [
      "\r",
      " 80%|████████  | 40/50 [1:28:46<27:23, 164.30s/it]"
     ]
    },
    {
     "name": "stdout",
     "output_type": "stream",
     "text": [
      "324556/324556 [==============================] - 3s 11us/step\n"
     ]
    },
    {
     "name": "stderr",
     "output_type": "stream",
     "text": [
      "\r",
      " 82%|████████▏ | 41/50 [1:32:18<26:47, 178.64s/it]"
     ]
    },
    {
     "name": "stdout",
     "output_type": "stream",
     "text": [
      "155282/155282 [==============================] - 2s 11us/step\n"
     ]
    },
    {
     "name": "stderr",
     "output_type": "stream",
     "text": [
      "\r",
      " 84%|████████▍ | 42/50 [1:33:08<18:38, 139.78s/it]"
     ]
    },
    {
     "name": "stdout",
     "output_type": "stream",
     "text": [
      "296203/296203 [==============================] - 3s 11us/step\n"
     ]
    },
    {
     "name": "stderr",
     "output_type": "stream",
     "text": [
      "\r",
      " 86%|████████▌ | 43/50 [1:35:42<16:48, 144.08s/it]"
     ]
    },
    {
     "name": "stdout",
     "output_type": "stream",
     "text": [
      "303499/303499 [==============================] - 3s 11us/step\n"
     ]
    },
    {
     "name": "stderr",
     "output_type": "stream",
     "text": [
      "\r",
      " 88%|████████▊ | 44/50 [1:38:25<14:59, 149.97s/it]"
     ]
    }
   ],
   "source": [
    "sample_user = np.random.randint(500001, 630000, 50)\n",
    "sample_user = [str(x) for x in sample_user]\n",
    "\n",
    "top_paths = []\n",
    "n_paths = []\n",
    "intersects = []\n",
    "scores = []\n",
    "\n",
    "for user in tqdm(sample_user):\n",
    "    top_suggested_path, top_suggested_items = get_top_suggestion(user, k=10)\n",
    "    top_truth_items = get_top_truth(user)\n",
    "    intersect, score = check_precision(top_suggested_items, top_truth_items)\n",
    "    \n",
    "    top_paths.append(top_suggested_path)\n",
    "    n_paths.append(len(top_suggested_path))\n",
    "    intersects.append(intersect)\n",
    "    scores.append(score)"
   ]
  },
  {
   "cell_type": "markdown",
   "metadata": {},
   "source": [
    "## Check prec@k result "
   ]
  },
  {
   "cell_type": "code",
   "execution_count": null,
   "metadata": {
    "scrolled": true
   },
   "outputs": [],
   "source": [
    "import numpy as np\n",
    "\n",
    "print(\"Prec@k score:\", np.average(scores))"
   ]
  },
  {
   "cell_type": "markdown",
   "metadata": {},
   "source": [
    "## Check suggestion diversity"
   ]
  },
  {
   "cell_type": "code",
   "execution_count": 24,
   "metadata": {},
   "outputs": [
    {
     "name": "stdout",
     "output_type": "stream",
     "text": [
      "313483/313483 [==============================] - 1s 3us/step\n",
      "303737/303737 [==============================] - 1s 3us/step\n",
      "700292/700292 [==============================] - 2s 3us/step\n",
      "310445/310445 [==============================] - 1s 3us/step\n",
      "262201/262201 [==============================] - 1s 3us/step\n",
      "274418/274418 [==============================] - 1s 3us/step\n",
      "299948/299948 [==============================] - 1s 3us/step\n",
      "2510857/2510857 [==============================] - 7s 3us/step\n",
      "184651/184651 [==============================] - 1s 3us/step\n",
      "396503/396503 [==============================] - 1s 3us/step\n",
      "178164/178164 [==============================] - 0s 3us/step\n",
      "\n",
      "intersect\n",
      "set() 0\n",
      "\n",
      "union\n",
      "{4353, 8962, 4365, 11536, 7442, 14868, 534, 6167, 2840, 2073, 10524, 12067, 10791, 10796, 12077, 2863, 5167, 6452, 14136, 4666, 10811, 1599, 578, 14403, 3401, 4687, 854, 8029, 2914, 8811, 9326, 8559, 7024, 2160, 9846, 5246, 6534, 11143, 136, 7049, 14222, 1423, 911, 3214, 10388, 9620, 14231, 11677, 15267, 10659, 1457, 6834, 3252, 4791, 1976, 1719, 5058, 14532, 15302, 14025, 15049, 7113, 7631, 9176, 15323, 13023, 5601, 9189, 12262, 11494, 3815, 3816, 14828, 7917, 7405, 7663, 5619} 77\n",
      "\n",
      "distinct rate\n",
      "0.77\n"
     ]
    }
   ],
   "source": [
    "k = 10\n",
    "n = 10\n",
    "\n",
    "sample_user = np.random.randint(500001, 630000, n)\n",
    "sample_user = [str(x) for x in sample_user]\n",
    "top_suggested_path, top_suggested_items = get_top_suggestion(sample_user[0], k)\n",
    "\n",
    "intersect = top_suggested_items\n",
    "uni = top_suggested_items\n",
    "\n",
    "for i in range(0, n):\n",
    "    top_suggested_path, top_suggested_items = get_top_suggestion(sample_user[i], k)\n",
    "    \n",
    "    intersect = intersect.intersection(top_suggested_items)\n",
    "    uni = uni.union(top_suggested_items)\n",
    "    \n",
    "print(\"\\nintersect\")\n",
    "print(intersect, len(intersect))\n",
    "print(\"\\nunion\")\n",
    "print(uni, len(uni))\n",
    "print(\"\\ndistinct rate\")\n",
    "print((len(uni)) / (n*k))"
   ]
  },
  {
   "cell_type": "code",
   "execution_count": null,
   "metadata": {},
   "outputs": [],
   "source": []
  }
 ],
 "metadata": {
  "kernelspec": {
   "display_name": "Python 3",
   "language": "python",
   "name": "python3"
  },
  "language_info": {
   "codemirror_mode": {
    "name": "ipython",
    "version": 3
   },
   "file_extension": ".py",
   "mimetype": "text/x-python",
   "name": "python",
   "nbconvert_exporter": "python",
   "pygments_lexer": "ipython3",
   "version": "3.5.2"
  },
  "varInspector": {
   "cols": {
    "lenName": 16,
    "lenType": 16,
    "lenVar": 40
   },
   "kernels_config": {
    "python": {
     "delete_cmd_postfix": "",
     "delete_cmd_prefix": "del ",
     "library": "var_list.py",
     "varRefreshCmd": "print(var_dic_list())"
    },
    "r": {
     "delete_cmd_postfix": ") ",
     "delete_cmd_prefix": "rm(",
     "library": "var_list.r",
     "varRefreshCmd": "cat(var_dic_list()) "
    }
   },
   "types_to_exclude": [
    "module",
    "function",
    "builtin_function_or_method",
    "instance",
    "_Feature"
   ],
   "window_display": false
  }
 },
 "nbformat": 4,
 "nbformat_minor": 2
}
