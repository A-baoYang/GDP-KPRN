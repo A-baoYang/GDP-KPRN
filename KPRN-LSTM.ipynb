{
 "cells": [
  {
   "cell_type": "markdown",
   "metadata": {
    "heading_collapsed": true
   },
   "source": [
    "# > Import"
   ]
  },
  {
   "cell_type": "code",
   "execution_count": 1,
   "metadata": {
    "hidden": true
   },
   "outputs": [],
   "source": [
    "from tqdm import tqdm\n",
    "import numpy as np\n",
    "import pickle"
   ]
  },
  {
   "cell_type": "code",
   "execution_count": 2,
   "metadata": {
    "hidden": true
   },
   "outputs": [],
   "source": [
    "import warnings\n",
    "warnings.filterwarnings(action='ignore')"
   ]
  },
  {
   "cell_type": "code",
   "execution_count": 3,
   "metadata": {
    "hidden": true
   },
   "outputs": [
    {
     "name": "stderr",
     "output_type": "stream",
     "text": [
      "Using TensorFlow backend.\n"
     ]
    }
   ],
   "source": [
    "import tensorflow as tf\n",
    "from keras.backend.tensorflow_backend import set_session\n",
    "\n",
    "config = tf.ConfigProto()\n",
    "config.gpu_options.allow_growth = True\n",
    "config.log_device_placement = True\n",
    "\n",
    "sess = tf.Session(config=config)\n",
    "set_session(sess)"
   ]
  },
  {
   "cell_type": "markdown",
   "metadata": {},
   "source": [
    "# > Prepare data"
   ]
  },
  {
   "cell_type": "markdown",
   "metadata": {
    "heading_collapsed": true
   },
   "source": [
    "## >> Load vocabulary"
   ]
  },
  {
   "cell_type": "code",
   "execution_count": 4,
   "metadata": {
    "hidden": true
   },
   "outputs": [],
   "source": [
    "file_all_entity_id = open(\"data/all_entity_id.txt\").read().splitlines()\n",
    "file_all_relation_id = open(\"data/all_relation_id.txt\").read().splitlines()\n",
    "file_all_type_id = open(\"data/entity_type_id.txt\").read().splitlines()"
   ]
  },
  {
   "cell_type": "markdown",
   "metadata": {
    "heading_collapsed": true
   },
   "source": [
    "## >> Load dataset \n",
    "(function only)"
   ]
  },
  {
   "cell_type": "code",
   "execution_count": 5,
   "metadata": {
    "hidden": true
   },
   "outputs": [],
   "source": [
    "def _load_batched_dataset_from_cache(batch_num):\n",
    "    dataset_path = pickle.load(\n",
    "        open(\"cache/dataset_path_{}\".format(batch_num), \"rb\"))\n",
    "    dataset_label = pickle.load(\n",
    "        open(\"cache/dataset_label_{}\".format(batch_num), \"rb\"))\n",
    "    return dataset_path, dataset_label\n",
    "\n",
    "def _save_batched_dataset_to_cache(dataset_path, dataset_label, batch_num):\n",
    "    pickle.dump(dataset_path,\n",
    "                open(\"cache/dataset_path_{}\".format(batch_num), \"wb\"))\n",
    "    pickle.dump(dataset_label,\n",
    "                open(\"cache/dataset_label_{}\".format(batch_num), \"wb\"))\n",
    "    \n",
    "def _load_batched_dataset_from_txt(batch_num):\n",
    "    dataset_path = []\n",
    "    dataset_label = []\n",
    "\n",
    "    p_file = open(\n",
    "        \"data/new_positive_path_{}.txt\".format(batch_num)).read().splitlines()\n",
    "    n_file = open(\n",
    "        \"data/new_negative_path_{}.txt\".format(batch_num)).read().splitlines()\n",
    "\n",
    "    for file in [p_file, n_file]:\n",
    "        for path in tqdm(file):\n",
    "            paths = path.split('#')\n",
    "\n",
    "            label = paths[-1]\n",
    "            paths = [x.split() for x in paths[:-1]]\n",
    "\n",
    "            dataset_path.append(paths)\n",
    "            dataset_label.append(label)\n",
    "\n",
    "    dataset_path = np.array(dataset_path).astype('int')\n",
    "    dataset_label = np.array(dataset_label).astype('int')\n",
    "\n",
    "    return dataset_path, dataset_label"
   ]
  },
  {
   "cell_type": "markdown",
   "metadata": {
    "heading_collapsed": true
   },
   "source": [
    "## >> Split dataset \n",
    "(function only)"
   ]
  },
  {
   "cell_type": "code",
   "execution_count": 6,
   "metadata": {
    "hidden": true
   },
   "outputs": [],
   "source": [
    "from sklearn.model_selection import train_test_split\n",
    "\n",
    "def _save_split_dataset(split_dataset, batch_num):\n",
    "    pickle.dump(split_dataset, open(\"cache/split_dataset_{}\".format(batch_num), \"wb\"))\n",
    "    \n",
    "def _load_split_dataset(batch_num):\n",
    "    return pickle.load(open(\"cache/split_dataset_{}\".format(batch_num), \"rb\"))"
   ]
  },
  {
   "cell_type": "code",
   "execution_count": 7,
   "metadata": {
    "hidden": true
   },
   "outputs": [],
   "source": [
    "def train_eval_test_split(X, y, eval_ratio=0.2, test_ratio=0.2):\n",
    "\n",
    "    n_data = len(y)\n",
    "    n_eval = int(0.2 * n_data)\n",
    "    n_test = int(0.2 * n_data)\n",
    "    n_train = n_data - n_eval - n_test \n",
    "    \n",
    "    X_train, X_eval, y_train, y_eval = train_test_split(X, y, test_size=n_eval, random_state=88)\n",
    "    X_train, X_test, y_train, y_test = train_test_split(X_train, y_train, test_size=n_test, random_state=88)\n",
    "    \n",
    "    return X_train, X_eval, X_test, y_train, y_eval, y_test"
   ]
  },
  {
   "cell_type": "markdown",
   "metadata": {
    "heading_collapsed": true
   },
   "source": [
    "## >> Dataset loader"
   ]
  },
  {
   "cell_type": "code",
   "execution_count": 8,
   "metadata": {
    "hidden": true
   },
   "outputs": [],
   "source": [
    "def load_batched_dataset(batch_num):\n",
    "\n",
    "    try:\n",
    "        X_train, X_eval, X_test, y_train, y_eval, y_test = _load_split_dataset(batch_num)\n",
    "    except:\n",
    "        \n",
    "        try:\n",
    "            dataset_path, dataset_label = _load_batched_dataset_from_cache(batch_num)\n",
    "        except:\n",
    "            dataset_path, dataset_label = _load_batched_dataset_from_txt(batch_num)\n",
    "            _save_batched_dataset_to_cache(dataset_path, dataset_label, batch_num)\n",
    "        \n",
    "        X_train, X_eval, X_test, y_train, y_eval, y_test = train_eval_test_split(dataset_path, dataset_label)\n",
    "\n",
    "        split_dataset = (X_train, X_eval, X_test, y_train, y_eval, y_test)\n",
    "        _save_split_dataset(split_dataset, batch_num)\n",
    "        \n",
    "    finally:\n",
    "        return X_train, X_eval, X_test, y_train, y_eval, y_test"
   ]
  },
  {
   "cell_type": "markdown",
   "metadata": {
    "hidden": true
   },
   "source": [
    "Try to preprocess and cache it"
   ]
  },
  {
   "cell_type": "code",
   "execution_count": 9,
   "metadata": {
    "hidden": true,
    "scrolled": true
   },
   "outputs": [],
   "source": [
    "BATCH_COUNT = 72\n",
    "\n",
    "for i in range(0, BATCH_COUNT):\n",
    "    load_batched_dataset(i)"
   ]
  },
  {
   "cell_type": "code",
   "execution_count": 10,
   "metadata": {
    "hidden": true
   },
   "outputs": [
    {
     "name": "stdout",
     "output_type": "stream",
     "text": [
      "X_train : (580885, 4, 3)\n",
      "X_eval : (193628, 4, 3)\n",
      "X_test : (193628, 4, 3)\n"
     ]
    }
   ],
   "source": [
    "# Sample one dataset batch\n",
    "\n",
    "X_train, X_eval, X_test, y_train, y_eval, y_test = load_batched_dataset(1)\n",
    "print(\"X_train :\", X_train.shape)\n",
    "print(\"X_eval :\", X_eval.shape)\n",
    "print(\"X_test :\", X_test.shape)"
   ]
  },
  {
   "cell_type": "markdown",
   "metadata": {},
   "source": [
    "# > Model"
   ]
  },
  {
   "cell_type": "markdown",
   "metadata": {
    "heading_collapsed": true
   },
   "source": [
    "## >> Define architecture"
   ]
  },
  {
   "cell_type": "code",
   "execution_count": 11,
   "metadata": {
    "hidden": true
   },
   "outputs": [],
   "source": [
    "from keras.layers import Input, Lambda, Embedding, Concatenate, LSTM, Dense, BatchNormalization, Activation"
   ]
  },
  {
   "cell_type": "code",
   "execution_count": 12,
   "metadata": {
    "hidden": true
   },
   "outputs": [
    {
     "name": "stderr",
     "output_type": "stream",
     "text": [
      "WARNING: Logging before flag parsing goes to stderr.\n",
      "W0719 05:47:46.353918 140354773841664 deprecation_wrapper.py:119] From /home/jessinra/.local/lib/python3.5/site-packages/keras/backend/tensorflow_backend.py:74: The name tf.get_default_graph is deprecated. Please use tf.compat.v1.get_default_graph instead.\n",
      "\n",
      "W0719 05:47:46.355530 140354773841664 deprecation_wrapper.py:119] From /home/jessinra/.local/lib/python3.5/site-packages/keras/backend/tensorflow_backend.py:517: The name tf.placeholder is deprecated. Please use tf.compat.v1.placeholder instead.\n",
      "\n"
     ]
    }
   ],
   "source": [
    "N_CHANNEL = 3 # entity, entity type, relation\n",
    "\n",
    "input_layer = Input(shape=(4, N_CHANNEL));"
   ]
  },
  {
   "cell_type": "code",
   "execution_count": 13,
   "metadata": {
    "hidden": true
   },
   "outputs": [
    {
     "name": "stderr",
     "output_type": "stream",
     "text": [
      "W0719 05:47:46.379109 140354773841664 deprecation_wrapper.py:119] From /home/jessinra/.local/lib/python3.5/site-packages/keras/backend/tensorflow_backend.py:4138: The name tf.random_uniform is deprecated. Please use tf.random.uniform instead.\n",
      "\n"
     ]
    }
   ],
   "source": [
    "n_users = 150000\n",
    "n_entity = len(file_all_entity_id) + n_users\n",
    "n_type = len(file_all_type_id)\n",
    "n_relation = len(file_all_relation_id)\n",
    "\n",
    "entity_emb_dim = 24\n",
    "type_emb_dim = 8\n",
    "relation_emb_dim = 8\n",
    "\n",
    "input_entity = Lambda(lambda x: x[:, :, 0])(input_layer)\n",
    "entity_embedding = Embedding(output_dim=entity_emb_dim, input_dim=n_entity)(input_entity)\n",
    "\n",
    "input_type = Lambda(lambda x: x[:, :, 1])(input_layer)\n",
    "type_embedding = Embedding(output_dim=type_emb_dim, input_dim=n_type)(input_type)\n",
    "\n",
    "input_relation = Lambda(lambda x: x[:, :, 2])(input_layer)\n",
    "relation_embedding = Embedding(output_dim=relation_emb_dim, input_dim=n_relation)(input_relation)\n",
    "\n",
    "final_embedding = Concatenate()([entity_embedding, type_embedding, relation_embedding]);"
   ]
  },
  {
   "cell_type": "code",
   "execution_count": 14,
   "metadata": {
    "code_folding": [],
    "hidden": true
   },
   "outputs": [
    {
     "name": "stderr",
     "output_type": "stream",
     "text": [
      "W0719 05:47:46.623014 140354773841664 deprecation_wrapper.py:119] From /home/jessinra/.local/lib/python3.5/site-packages/keras/backend/tensorflow_backend.py:133: The name tf.placeholder_with_default is deprecated. Please use tf.compat.v1.placeholder_with_default instead.\n",
      "\n",
      "W0719 05:47:46.632853 140354773841664 deprecation.py:506] From /home/jessinra/.local/lib/python3.5/site-packages/keras/backend/tensorflow_backend.py:3445: calling dropout (from tensorflow.python.ops.nn_ops) with keep_prob is deprecated and will be removed in a future version.\n",
      "Instructions for updating:\n",
      "Please use `rate` instead of `keep_prob`. Rate should be set to `rate = 1 - keep_prob`.\n"
     ]
    }
   ],
   "source": [
    "N_LSTM_UNIT = 16\n",
    "\n",
    "lstm_layer = LSTM(N_LSTM_UNIT, activation='relu', dropout=0.5)(final_embedding);"
   ]
  },
  {
   "cell_type": "code",
   "execution_count": 15,
   "metadata": {
    "hidden": true
   },
   "outputs": [],
   "source": [
    "predictions = Dense(1)(lstm_layer)\n",
    "predictions = BatchNormalization()(predictions)\n",
    "prediction = Activation(\"sigmoid\")"
   ]
  },
  {
   "cell_type": "markdown",
   "metadata": {
    "heading_collapsed": true
   },
   "source": [
    "## >> Building model"
   ]
  },
  {
   "cell_type": "code",
   "execution_count": 16,
   "metadata": {
    "hidden": true
   },
   "outputs": [
    {
     "name": "stderr",
     "output_type": "stream",
     "text": [
      "W0719 05:47:46.995753 140354773841664 deprecation_wrapper.py:119] From /home/jessinra/.local/lib/python3.5/site-packages/keras/optimizers.py:790: The name tf.train.Optimizer is deprecated. Please use tf.compat.v1.train.Optimizer instead.\n",
      "\n",
      "W0719 05:47:47.002350 140354773841664 deprecation_wrapper.py:119] From /home/jessinra/.local/lib/python3.5/site-packages/keras/backend/tensorflow_backend.py:3376: The name tf.log is deprecated. Please use tf.math.log instead.\n",
      "\n",
      "W0719 05:47:47.008061 140354773841664 deprecation.py:323] From /home/jessinra/.local/lib/python3.5/site-packages/tensorflow/python/ops/nn_impl.py:180: add_dispatch_support.<locals>.wrapper (from tensorflow.python.ops.array_ops) is deprecated and will be removed in a future version.\n",
      "Instructions for updating:\n",
      "Use tf.where in 2.0, which has the same broadcast rule as np.where\n"
     ]
    }
   ],
   "source": [
    "from keras.optimizers import Adam\n",
    "from keras.models import Model\n",
    "\n",
    "optimizer = Adam(lr=0.003)\n",
    "model = Model(inputs=input_layer, outputs=predictions)\n",
    "\n",
    "model.compile(optimizer=optimizer,\n",
    "              loss='binary_crossentropy',\n",
    "              metrics=['accuracy'])"
   ]
  },
  {
   "cell_type": "markdown",
   "metadata": {
    "hidden": true
   },
   "source": [
    "Let's checkout the final model summary first :)"
   ]
  },
  {
   "cell_type": "code",
   "execution_count": 17,
   "metadata": {
    "hidden": true
   },
   "outputs": [
    {
     "name": "stdout",
     "output_type": "stream",
     "text": [
      "__________________________________________________________________________________________________\n",
      "Layer (type)                    Output Shape         Param #     Connected to                     \n",
      "==================================================================================================\n",
      "input_1 (InputLayer)            (None, 4, 3)         0                                            \n",
      "__________________________________________________________________________________________________\n",
      "lambda_1 (Lambda)               (None, 4)            0           input_1[0][0]                    \n",
      "__________________________________________________________________________________________________\n",
      "lambda_2 (Lambda)               (None, 4)            0           input_1[0][0]                    \n",
      "__________________________________________________________________________________________________\n",
      "lambda_3 (Lambda)               (None, 4)            0           input_1[0][0]                    \n",
      "__________________________________________________________________________________________________\n",
      "embedding_1 (Embedding)         (None, 4, 24)        5256528     lambda_1[0][0]                   \n",
      "__________________________________________________________________________________________________\n",
      "embedding_2 (Embedding)         (None, 4, 8)         72          lambda_2[0][0]                   \n",
      "__________________________________________________________________________________________________\n",
      "embedding_3 (Embedding)         (None, 4, 8)         248         lambda_3[0][0]                   \n",
      "__________________________________________________________________________________________________\n",
      "concatenate_1 (Concatenate)     (None, 4, 40)        0           embedding_1[0][0]                \n",
      "                                                                 embedding_2[0][0]                \n",
      "                                                                 embedding_3[0][0]                \n",
      "__________________________________________________________________________________________________\n",
      "lstm_1 (LSTM)                   (None, 16)           3648        concatenate_1[0][0]              \n",
      "__________________________________________________________________________________________________\n",
      "dense_1 (Dense)                 (None, 1)            17          lstm_1[0][0]                     \n",
      "__________________________________________________________________________________________________\n",
      "batch_normalization_1 (BatchNor (None, 1)            4           dense_1[0][0]                    \n",
      "==================================================================================================\n",
      "Total params: 5,260,517\n",
      "Trainable params: 5,260,515\n",
      "Non-trainable params: 2\n",
      "__________________________________________________________________________________________________\n"
     ]
    }
   ],
   "source": [
    "model.summary()"
   ]
  },
  {
   "cell_type": "markdown",
   "metadata": {
    "heading_collapsed": true
   },
   "source": [
    "## >> Callbacks"
   ]
  },
  {
   "cell_type": "code",
   "execution_count": 18,
   "metadata": {
    "code_folding": [],
    "hidden": true
   },
   "outputs": [],
   "source": [
    "from keras.callbacks import Callback, EarlyStopping, ModelCheckpoint\n",
    "from IPython.display import clear_output\n",
    "import matplotlib.pyplot as plt\n",
    "import seaborn as sns\n",
    "\n",
    "\n",
    "class PlotLearning(Callback):\n",
    "    def on_train_begin(self, logs={}):\n",
    "        self.i = 0\n",
    "        self.x = []\n",
    "        self.acc = []\n",
    "        self.val_acc = []\n",
    "        self.fig = plt.figure()\n",
    "        plt.figure(figsize=(16, 16))\n",
    "\n",
    "        self.logs = []\n",
    "\n",
    "    def on_epoch_end(self, epoch, logs={}):\n",
    "\n",
    "        self.logs.append(logs)\n",
    "        self.x.append(self.i)\n",
    "        self.acc.append(logs.get('acc'))\n",
    "        self.val_acc.append(logs.get('val_acc'))\n",
    "        self.i += 1\n",
    "\n",
    "        clear_output(wait=True)\n",
    "        plt.plot(self.x, self.acc, label=\"accuracy\")\n",
    "        plt.plot(self.x, self.val_acc, label=\"validation accuracy\")\n",
    "        plt.legend()\n",
    "\n",
    "        plt.show()\n",
    "\n",
    "\n",
    "plot_learning = PlotLearning()"
   ]
  },
  {
   "cell_type": "code",
   "execution_count": 19,
   "metadata": {
    "hidden": true
   },
   "outputs": [],
   "source": [
    "early_stopping = EarlyStopping(monitor='val_loss', mode='auto', verbose=1, patience=3, min_delta=0.005, restore_best_weights=True)"
   ]
  },
  {
   "cell_type": "code",
   "execution_count": 20,
   "metadata": {
    "hidden": true
   },
   "outputs": [],
   "source": [
    "import datetime\n",
    "import os \n",
    "\n",
    "timestamp = datetime.datetime.now().strftime(\"%Y-%m-%d %H:%M:%S\")\n",
    "log_folder = \"logs/\" + str(timestamp)\n",
    "\n",
    "os.makedirs(log_folder)\n",
    "filepath = log_folder + \"/weights-improvement-{epoch:02d}-{val_acc:.2f}.hdf5\"\n",
    "\n",
    "model_checkpoint = ModelCheckpoint(filepath=filepath, verbose=1, save_best_only=False)"
   ]
  },
  {
   "cell_type": "markdown",
   "metadata": {},
   "source": [
    "# > Train model"
   ]
  },
  {
   "cell_type": "markdown",
   "metadata": {
    "heading_collapsed": true
   },
   "source": [
    "## >> Batch generator"
   ]
  },
  {
   "cell_type": "code",
   "execution_count": 21,
   "metadata": {
    "hidden": true
   },
   "outputs": [],
   "source": [
    "from math import ceil\n",
    "\n",
    "n_batches = 0\n",
    "n_eval_batches = 0\n",
    "batch_size = 4096\n",
    "\n",
    "for i in range(0, 72):\n",
    "    X_train, X_eval, X_test, y_train, y_eval, y_test = load_batched_dataset(i)\n",
    "    n_batches += ceil(len(y_train) / batch_size)\n",
    "    n_eval_batches += ceil(len(y_eval) / batch_size)"
   ]
  },
  {
   "cell_type": "code",
   "execution_count": 22,
   "metadata": {
    "hidden": true
   },
   "outputs": [],
   "source": [
    "def generate_batches(batch_count, batch_size):\n",
    "\n",
    "    counter = 0\n",
    "    while True:\n",
    "\n",
    "        X_train, X_eval, X_test, y_train, y_eval, y_test = load_batched_dataset(counter)        \n",
    "        counter = (counter + 1) % batch_count\n",
    "\n",
    "        for cbatch in range(0, X_train.shape[0], batch_size):\n",
    "            yield (X_train[cbatch:(cbatch + batch_size), :, :],\n",
    "                   y_train[cbatch:(cbatch + batch_size)])\n",
    "            \n",
    "def generate_eval_batches(batch_count, batch_size):\n",
    "\n",
    "    counter = 0\n",
    "    while True:\n",
    "\n",
    "        X_train, X_eval, X_test, y_train, y_eval, y_test = load_batched_dataset(counter)        \n",
    "        counter = (counter + 1) % batch_count\n",
    "\n",
    "        for cbatch in range(0, X_eval.shape[0], batch_size):\n",
    "            yield (X_eval[cbatch:(cbatch + batch_size), :, :],\n",
    "                   y_eval[cbatch:(cbatch + batch_size)])\n",
    "\n",
    "batch_generator = generate_batches(batch_count=BATCH_COUNT, batch_size=batch_size)    \n",
    "batch_eval_generator = generate_eval_batches(batch_count=BATCH_COUNT, batch_size=batch_size)"
   ]
  },
  {
   "cell_type": "markdown",
   "metadata": {
    "hidden": true,
    "scrolled": true
   },
   "source": [
    "model.fit(X_train,\n",
    "          y_train,\n",
    "          validation_data=(X_eval, y_eval),\n",
    "          batch_size=4096,\n",
    "          epochs=15,\n",
    "          callbacks=[early_stopping, model_checkpoint],\n",
    "          verbose=1)  # starts training"
   ]
  },
  {
   "cell_type": "markdown",
   "metadata": {},
   "source": [
    "## >> Train"
   ]
  },
  {
   "cell_type": "code",
   "execution_count": 23,
   "metadata": {},
   "outputs": [
    {
     "name": "stdout",
     "output_type": "stream",
     "text": [
      "Epoch 1/15\n",
      "10197/10197 [==============================] - 637s 62ms/step - loss: 0.4479 - acc: 0.7998 - val_loss: 0.2940 - val_acc: 0.8759\n",
      "\n",
      "Epoch 00001: saving model to logs/2019-07-19 05:47:47/weights-improvement-01-0.88.hdf5\n",
      "Epoch 2/15\n",
      "10197/10197 [==============================] - 632s 62ms/step - loss: 0.2930 - acc: 0.8773 - val_loss: 0.2652 - val_acc: 0.8839\n",
      "\n",
      "Epoch 00002: saving model to logs/2019-07-19 05:47:47/weights-improvement-02-0.88.hdf5\n",
      "Epoch 3/15\n",
      "10197/10197 [==============================] - 280s 27ms/step - loss: 0.2836 - acc: 0.8805 - val_loss: 0.2625 - val_acc: 0.8838\n",
      "\n",
      "Epoch 00003: saving model to logs/2019-07-19 05:47:47/weights-improvement-03-0.88.hdf5\n",
      "Epoch 4/15\n",
      "10197/10197 [==============================] - 279s 27ms/step - loss: 0.2781 - acc: 0.8823 - val_loss: 0.2574 - val_acc: 0.8844\n",
      "\n",
      "Epoch 00004: saving model to logs/2019-07-19 05:47:47/weights-improvement-04-0.88.hdf5\n",
      "Epoch 5/15\n",
      "10197/10197 [==============================] - 279s 27ms/step - loss: 0.2867 - acc: 0.8801 - val_loss: 0.2537 - val_acc: 0.8854\n",
      "\n",
      "Epoch 00005: saving model to logs/2019-07-19 05:47:47/weights-improvement-05-0.89.hdf5\n",
      "Epoch 6/15\n",
      "10197/10197 [==============================] - 278s 27ms/step - loss: 0.2871 - acc: 0.8805 - val_loss: 0.2585 - val_acc: 0.8854\n",
      "\n",
      "Epoch 00006: saving model to logs/2019-07-19 05:47:47/weights-improvement-06-0.89.hdf5\n",
      "Epoch 7/15\n",
      "10197/10197 [==============================] - 270s 26ms/step - loss: 0.2774 - acc: 0.8820 - val_loss: 0.2704 - val_acc: 0.8837\n",
      "Restoring model weights from the end of the best epoch\n",
      "\n",
      "Epoch 00007: saving model to logs/2019-07-19 05:47:47/weights-improvement-07-0.88.hdf5\n",
      "Epoch 00007: early stopping\n"
     ]
    },
    {
     "data": {
      "text/plain": [
       "<keras.callbacks.History at 0x7fa6542ef470>"
      ]
     },
     "execution_count": 23,
     "metadata": {},
     "output_type": "execute_result"
    }
   ],
   "source": [
    "model.fit_generator(generator=batch_generator,\n",
    "                    validation_data=batch_eval_generator,\n",
    "                    steps_per_epoch=n_batches,\n",
    "                    validation_steps=n_eval_batches,\n",
    "                    epochs=15,\n",
    "                    callbacks=[early_stopping, model_checkpoint],\n",
    "                    verbose=1)"
   ]
  }
 ],
 "metadata": {
  "kernelspec": {
   "display_name": "Python 3",
   "language": "python",
   "name": "python3"
  },
  "language_info": {
   "codemirror_mode": {
    "name": "ipython",
    "version": 3
   },
   "file_extension": ".py",
   "mimetype": "text/x-python",
   "name": "python",
   "nbconvert_exporter": "python",
   "pygments_lexer": "ipython3",
   "version": "3.5.2"
  },
  "varInspector": {
   "cols": {
    "lenName": 16,
    "lenType": 16,
    "lenVar": 40
   },
   "kernels_config": {
    "python": {
     "delete_cmd_postfix": "",
     "delete_cmd_prefix": "del ",
     "library": "var_list.py",
     "varRefreshCmd": "print(var_dic_list())"
    },
    "r": {
     "delete_cmd_postfix": ") ",
     "delete_cmd_prefix": "rm(",
     "library": "var_list.r",
     "varRefreshCmd": "cat(var_dic_list()) "
    }
   },
   "types_to_exclude": [
    "module",
    "function",
    "builtin_function_or_method",
    "instance",
    "_Feature"
   ],
   "window_display": false
  }
 },
 "nbformat": 4,
 "nbformat_minor": 2
}
