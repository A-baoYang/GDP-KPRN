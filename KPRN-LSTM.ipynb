{
 "cells": [
  {
   "cell_type": "markdown",
   "metadata": {},
   "source": [
    " # > Import"
   ]
  },
  {
   "cell_type": "code",
   "execution_count": null,
   "metadata": {},
   "outputs": [],
   "source": [
    "import datetime\n",
    "import os\n",
    "import pickle\n",
    "import warnings\n",
    "from math import ceil\n",
    "\n",
    "import matplotlib.pyplot as plt\n",
    "import numpy as np\n",
    "import tensorflow as tf\n",
    "from IPython.display import clear_output\n",
    "from sklearn.model_selection import train_test_split\n",
    "from tqdm import tqdm\n",
    "\n",
    "import seaborn as sns\n",
    "from keras.backend.tensorflow_backend import set_session\n",
    "from keras.callbacks import Callback, EarlyStopping, ModelCheckpoint\n",
    "from keras.layers import (LSTM, Activation, BatchNormalization, Concatenate,\n",
    "                          Dense, Embedding, Input, Lambda)\n",
    "from keras.models import Model\n",
    "from keras.optimizers import Adam"
   ]
  },
  {
   "cell_type": "code",
   "execution_count": null,
   "metadata": {},
   "outputs": [],
   "source": [
    "warnings.filterwarnings(action='ignore')"
   ]
  },
  {
   "cell_type": "code",
   "execution_count": null,
   "metadata": {},
   "outputs": [],
   "source": [
    "config = tf.ConfigProto()\n",
    "\n",
    "config.gpu_options.allow_growth = True\n",
    "config.log_device_placement = True\n",
    "\n",
    "sess = tf.Session(config=config)\n",
    "set_session(sess)"
   ]
  },
  {
   "cell_type": "markdown",
   "metadata": {},
   "source": [
    "### ! Please make sure how much batches you have after doing preprocessing step !"
   ]
  },
  {
   "cell_type": "code",
   "execution_count": null,
   "metadata": {},
   "outputs": [],
   "source": [
    "BATCH_COUNT = 72"
   ]
  },
  {
   "cell_type": "markdown",
   "metadata": {},
   "source": [
    " # > Prepare data"
   ]
  },
  {
   "cell_type": "markdown",
   "metadata": {},
   "source": [
    " ## >> Load vocabulary"
   ]
  },
  {
   "cell_type": "code",
   "execution_count": null,
   "metadata": {},
   "outputs": [],
   "source": [
    "file_all_entity_id = open(\"data/all_entity_id.txt\").read().splitlines()\n",
    "file_all_relation_id = open(\"data/all_relation_id.txt\").read().splitlines()\n",
    "file_all_type_id = open(\"data/entity_type_id.txt\").read().splitlines()"
   ]
  },
  {
   "cell_type": "markdown",
   "metadata": {},
   "source": [
    " ## >> Load dataset\n",
    " (function only)"
   ]
  },
  {
   "cell_type": "code",
   "execution_count": null,
   "metadata": {},
   "outputs": [],
   "source": [
    "def _load_batched_dataset_from_cache(batch_num):\n",
    "    dataset_path = pickle.load(open(\"cache/dataset_path_{}\".format(batch_num), \"rb\"))\n",
    "    dataset_label = pickle.load(open(\"cache/dataset_label_{}\".format(batch_num), \"rb\"))\n",
    "\n",
    "    return dataset_path, dataset_label\n",
    "\n",
    "\n",
    "def _save_batched_dataset_to_cache(dataset_path, dataset_label, batch_num):\n",
    "    pickle.dump(dataset_path, open(\"cache/dataset_path_{}\".format(batch_num), \"wb\"))\n",
    "    pickle.dump(dataset_label, open(\"cache/dataset_label_{}\".format(batch_num), \"wb\"))\n",
    "\n",
    "\n",
    "def _load_batched_dataset_from_txt(batch_num):\n",
    "    dataset_path = []\n",
    "    dataset_label = []\n",
    "\n",
    "    positive_paths = open(\"data/new_positive_path_{}.txt\".format(batch_num)).read().splitlines()\n",
    "    negative_paths = open(\"data/new_negative_path_{}.txt\".format(batch_num)).read().splitlines()\n",
    "\n",
    "    for paths in [positive_paths, negative_paths]:\n",
    "        for path in tqdm(paths):\n",
    "\n",
    "            split_path = path.split('#')\n",
    "\n",
    "            label = split_path[-1]\n",
    "            split_path = [x.split() for x in split_path[:-1]]\n",
    "\n",
    "            dataset_path.append(split_path)\n",
    "            dataset_label.append(label)\n",
    "\n",
    "    dataset_path = np.array(dataset_path).astype('int')\n",
    "    dataset_label = np.array(dataset_label).astype('int')\n",
    "\n",
    "    return dataset_path, dataset_label"
   ]
  },
  {
   "cell_type": "markdown",
   "metadata": {},
   "source": [
    " ## >> Split dataset\n",
    " (function only)"
   ]
  },
  {
   "cell_type": "code",
   "execution_count": null,
   "metadata": {},
   "outputs": [],
   "source": [
    "def _save_split_dataset(split_dataset, batch_num):\n",
    "    pickle.dump(split_dataset, open(\"cache/split_dataset_{}\".format(batch_num), \"wb\"))\n",
    "\n",
    "\n",
    "def _load_split_dataset(batch_num):\n",
    "    return pickle.load(open(\"cache/split_dataset_{}\".format(batch_num), \"rb\"))"
   ]
  },
  {
   "cell_type": "code",
   "execution_count": null,
   "metadata": {},
   "outputs": [],
   "source": [
    "def _train_eval_test_split(X, y, eval_ratio=0.2, test_ratio=0.2):\n",
    "\n",
    "    n_data = len(y)\n",
    "    n_eval = int(0.2 * n_data)\n",
    "    n_test = int(0.2 * n_data)\n",
    "\n",
    "    X_train, X_eval, y_train, y_eval = train_test_split(X, y, test_size=n_eval, random_state=88)\n",
    "    X_train, X_test, y_train, y_test = train_test_split(X_train, y_train, test_size=n_test, random_state=88)\n",
    "\n",
    "    return X_train, X_eval, X_test, y_train, y_eval, y_test\n",
    "\n",
    "\n",
    "def _get_split_dataset(batch_num):\n",
    "\n",
    "    try:\n",
    "        dataset_path, dataset_label = _load_batched_dataset_from_cache(batch_num)\n",
    "    except:\n",
    "        dataset_path, dataset_label = _load_batched_dataset_from_txt(batch_num)\n",
    "        _save_batched_dataset_to_cache(dataset_path, dataset_label, batch_num)\n",
    "\n",
    "    # Split dataset\n",
    "    X_train, X_eval, X_test, y_train, y_eval, y_test = _train_eval_test_split(dataset_path, dataset_label)\n",
    "    _save_split_dataset((X_train, X_eval, X_test, y_train, y_eval, y_test), batch_num)\n",
    "\n",
    "    return X_train, X_eval, X_test, y_train, y_eval, y_test"
   ]
  },
  {
   "cell_type": "markdown",
   "metadata": {},
   "source": [
    " ## >> Dataset loader"
   ]
  },
  {
   "cell_type": "code",
   "execution_count": null,
   "metadata": {},
   "outputs": [],
   "source": [
    "def get_split_batched_dataset(batch_num):\n",
    "    try:\n",
    "        X_train, X_eval, X_test, y_train, y_eval, y_test = _load_split_dataset(batch_num)\n",
    "    except:\n",
    "        X_train, X_eval, X_test, y_train, y_eval, y_test = _get_split_dataset(batch_num)\n",
    "    finally:\n",
    "        return X_train, X_eval, X_test, y_train, y_eval, y_test"
   ]
  },
  {
   "cell_type": "markdown",
   "metadata": {},
   "source": [
    " Try to preprocess and cache it"
   ]
  },
  {
   "cell_type": "code",
   "execution_count": null,
   "metadata": {},
   "outputs": [],
   "source": [
    "# Sample one dataset batch to test\n",
    "X_train, X_eval, X_test, y_train, y_eval, y_test = get_split_batched_dataset(1)\n",
    "\n",
    "print(\"X_train :\", X_train.shape)\n",
    "print(\"X_eval :\", X_eval.shape)\n",
    "print(\"X_test :\", X_test.shape)"
   ]
  },
  {
   "cell_type": "markdown",
   "metadata": {},
   "source": [
    " # > Model"
   ]
  },
  {
   "cell_type": "markdown",
   "metadata": {},
   "source": [
    " ## >> Define architecture"
   ]
  },
  {
   "cell_type": "code",
   "execution_count": null,
   "metadata": {},
   "outputs": [],
   "source": [
    "N_CHANNEL = 3  # entity, entity type, relation\n",
    "\n",
    "input_layer = Input(shape=(4, N_CHANNEL))"
   ]
  },
  {
   "cell_type": "code",
   "execution_count": null,
   "metadata": {},
   "outputs": [],
   "source": [
    "n_users = 150000\n",
    "n_entity = len(file_all_entity_id) + n_users\n",
    "n_type = len(file_all_type_id)\n",
    "n_relation = len(file_all_relation_id)\n",
    "\n",
    "entity_emb_dim = 24\n",
    "type_emb_dim = 8\n",
    "relation_emb_dim = 8\n",
    "\n",
    "input_entity = Lambda(lambda x: x[:, :, 0])(input_layer)\n",
    "entity_embedding = Embedding(output_dim=entity_emb_dim, input_dim=n_entity)(input_entity)\n",
    "\n",
    "input_type = Lambda(lambda x: x[:, :, 1])(input_layer)\n",
    "type_embedding = Embedding(output_dim=type_emb_dim, input_dim=n_type)(input_type)\n",
    "\n",
    "input_relation = Lambda(lambda x: x[:, :, 2])(input_layer)\n",
    "relation_embedding = Embedding(output_dim=relation_emb_dim, input_dim=n_relation)(input_relation)\n",
    "\n",
    "final_embedding = Concatenate()([entity_embedding, type_embedding, relation_embedding])"
   ]
  },
  {
   "cell_type": "code",
   "execution_count": null,
   "metadata": {},
   "outputs": [],
   "source": [
    "N_LSTM_UNIT = 16\n",
    "\n",
    "lstm_layer = LSTM(N_LSTM_UNIT, activation='relu', dropout=0.5)(final_embedding)"
   ]
  },
  {
   "cell_type": "code",
   "execution_count": null,
   "metadata": {},
   "outputs": [],
   "source": [
    "predictions = Dense(1)(lstm_layer)\n",
    "predictions = BatchNormalization()(predictions)\n",
    "prediction = Activation(\"sigmoid\")"
   ]
  },
  {
   "cell_type": "markdown",
   "metadata": {},
   "source": [
    " ## >> Building model"
   ]
  },
  {
   "cell_type": "code",
   "execution_count": null,
   "metadata": {},
   "outputs": [],
   "source": [
    "optimizer = Adam(lr=0.003)\n",
    "model = Model(inputs=input_layer, outputs=predictions)\n",
    "model.compile(optimizer=optimizer, loss='binary_crossentropy', metrics=['accuracy'])"
   ]
  },
  {
   "cell_type": "markdown",
   "metadata": {},
   "source": [
    " Let's checkout the final model summary first :)"
   ]
  },
  {
   "cell_type": "code",
   "execution_count": null,
   "metadata": {},
   "outputs": [],
   "source": [
    "model.summary()"
   ]
  },
  {
   "cell_type": "markdown",
   "metadata": {},
   "source": [
    " ## >> Callbacks"
   ]
  },
  {
   "cell_type": "code",
   "execution_count": null,
   "metadata": {},
   "outputs": [],
   "source": [
    "class PlotLearning(Callback):\n",
    "    def on_train_begin(self, logs={}):\n",
    "        self.i = 0\n",
    "        self.x = []\n",
    "        self.acc = []\n",
    "        self.val_acc = []\n",
    "        self.fig = plt.figure()\n",
    "        plt.figure(figsize=(16, 16))\n",
    "\n",
    "        self.logs = []\n",
    "\n",
    "    def on_epoch_end(self, epoch, logs={}):\n",
    "\n",
    "        self.logs.append(logs)\n",
    "        self.x.append(self.i)\n",
    "        self.acc.append(logs.get('acc'))\n",
    "        self.val_acc.append(logs.get('val_acc'))\n",
    "        self.i += 1\n",
    "\n",
    "        clear_output(wait=True)\n",
    "        plt.plot(self.x, self.acc, label=\"accuracy\")\n",
    "        plt.plot(self.x, self.val_acc, label=\"validation accuracy\")\n",
    "        plt.legend()\n",
    "\n",
    "        plt.show()\n",
    "\n",
    "\n",
    "plot_learning = PlotLearning()"
   ]
  },
  {
   "cell_type": "code",
   "execution_count": null,
   "metadata": {},
   "outputs": [],
   "source": [
    "early_stopping = EarlyStopping(monitor='val_loss', mode='auto', verbose=1,\n",
    "                               patience=3, min_delta=0.005, restore_best_weights=True)"
   ]
  },
  {
   "cell_type": "code",
   "execution_count": null,
   "metadata": {},
   "outputs": [],
   "source": [
    "timestamp = datetime.datetime.now().strftime(\"%Y-%m-%d %H:%M:%S\")\n",
    "log_folder = \"logs/\" + str(timestamp)\n",
    "\n",
    "os.makedirs(log_folder)\n",
    "filepath = log_folder + \"/weights-improvement-{epoch:02d}-{val_acc:.2f}.hdf5\"\n",
    "\n",
    "model_checkpoint = ModelCheckpoint(filepath=filepath, verbose=1, save_best_only=False)"
   ]
  },
  {
   "cell_type": "markdown",
   "metadata": {},
   "source": [
    " # > Train model"
   ]
  },
  {
   "cell_type": "markdown",
   "metadata": {},
   "source": [
    " ## >> Batch generator"
   ]
  },
  {
   "cell_type": "code",
   "execution_count": null,
   "metadata": {},
   "outputs": [],
   "source": [
    "n_batches = 0\n",
    "n_eval_batches = 0\n",
    "batch_size = 4096\n",
    "\n",
    "for i in range(0, 72):\n",
    "    X_train, X_eval, X_test, y_train, y_eval, y_test = get_split_batched_dataset(i)\n",
    "    n_batches += ceil(len(y_train) / batch_size)\n",
    "    n_eval_batches += ceil(len(y_eval) / batch_size)"
   ]
  },
  {
   "cell_type": "code",
   "execution_count": null,
   "metadata": {},
   "outputs": [],
   "source": [
    "def generate_batches(batch_count, batch_size):\n",
    "\n",
    "    counter = 0\n",
    "    while True:\n",
    "\n",
    "        X_train, _, _, y_train, _, _ = get_split_batched_dataset(counter)\n",
    "        counter = (counter + 1) % batch_count\n",
    "\n",
    "        for cbatch in range(0, X_train.shape[0], batch_size):\n",
    "            yield (X_train[cbatch:(cbatch + batch_size), :, :],\n",
    "                   y_train[cbatch:(cbatch + batch_size)])\n",
    "\n",
    "\n",
    "def generate_eval_batches(batch_count, batch_size):\n",
    "\n",
    "    counter = 0\n",
    "    while True:\n",
    "\n",
    "        _, X_eval, _, _, y_eval, _ = get_split_batched_dataset(counter)\n",
    "        counter = (counter + 1) % batch_count\n",
    "\n",
    "        for cbatch in range(0, X_eval.shape[0], batch_size):\n",
    "            yield (X_eval[cbatch:(cbatch + batch_size), :, :],\n",
    "                   y_eval[cbatch:(cbatch + batch_size)])\n",
    "\n",
    "\n",
    "batch_generator = generate_batches(batch_count=BATCH_COUNT, batch_size=batch_size)\n",
    "batch_eval_generator = generate_eval_batches(batch_count=BATCH_COUNT, batch_size=batch_size)"
   ]
  },
  {
   "cell_type": "markdown",
   "metadata": {},
   "source": [
    " ## >> Train"
   ]
  },
  {
   "cell_type": "code",
   "execution_count": null,
   "metadata": {},
   "outputs": [],
   "source": [
    "model.fit_generator(generator=batch_generator,\n",
    "                    validation_data=batch_eval_generator,\n",
    "                    steps_per_epoch=n_batches,\n",
    "                    validation_steps=n_eval_batches,\n",
    "                    epochs=15,\n",
    "                    callbacks=[early_stopping, model_checkpoint],\n",
    "                    verbose=1)"
   ]
  }
 ],
 "metadata": {
  "file_extension": ".py",
  "kernelspec": {
   "display_name": "Python 3",
   "language": "python",
   "name": "python3"
  },
  "language_info": {
   "codemirror_mode": {
    "name": "ipython",
    "version": 3
   },
   "file_extension": ".py",
   "mimetype": "text/x-python",
   "name": "python",
   "nbconvert_exporter": "python",
   "pygments_lexer": "ipython3",
   "version": "3.6.8"
  },
  "mimetype": "text/x-python",
  "name": "python",
  "npconvert_exporter": "python",
  "pygments_lexer": "ipython3",
  "version": 3
 },
 "nbformat": 4,
 "nbformat_minor": 2
}
